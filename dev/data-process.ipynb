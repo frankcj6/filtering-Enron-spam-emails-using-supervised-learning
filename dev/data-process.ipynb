{
 "cells": [
  {
   "cell_type": "markdown",
   "metadata": {},
   "source": [
    "# Predicting Enron Spam Emails using Supervised Learning\n",
    "\n",
    "## DS-GA 1001: Introduction to Data Science Final Project\n",
    "\n",
    "### Scripts"
   ]
  },
  {
   "cell_type": "markdown",
   "metadata": {},
   "source": [
    "## Data Process"
   ]
  },
  {
   "cell_type": "markdown",
   "metadata": {},
   "source": [
    "Created On: 11/15/2020\n",
    "\n",
    "Modified On: 11/30/2020"
   ]
  },
  {
   "cell_type": "markdown",
   "metadata": {},
   "source": [
    "### Description\n",
    "\n",
    "This script cleans the feature column in the `emails.csv` document. \n",
    "\n",
    "### Steps\n",
    "\n",
    "1. Import the data generated from `data-process.ipynb`\n",
    "\n",
    "2. Randomly shuffle rows and reset row index to mix hams with spams\n",
    "\n",
    "3. Text pre-process:\n",
    "  - remove punctuation\n",
    "  - remove stop words\n",
    "  \n",
    "4. Vectorization:\n",
    "  - "
   ]
  },
  {
   "cell_type": "code",
   "execution_count": 18,
   "metadata": {},
   "outputs": [],
   "source": [
    "import pandas as pd\n",
    "import string\n",
    "from sklearn.feature_extraction.text import TfidfVectorizer\n",
    "import nltk\n",
    "from nltk.corpus import stopwords\n",
    "from nltk import word_tokenize"
   ]
  },
  {
   "cell_type": "code",
   "execution_count": 2,
   "metadata": {},
   "outputs": [],
   "source": [
    "df = pd.read_csv(\"../data/emails.csv\")"
   ]
  },
  {
   "cell_type": "code",
   "execution_count": 3,
   "metadata": {},
   "outputs": [],
   "source": [
    "# Randomly shuffle rows to mix ham emails with spam ones\n",
    "df = df.sample(frac = 1).reset_index(drop=True)"
   ]
  },
  {
   "cell_type": "code",
   "execution_count": 4,
   "metadata": {},
   "outputs": [
    {
     "data": {
      "text/plain": [
       "(829210, 2)"
      ]
     },
     "metadata": {},
     "output_type": "display_data"
    },
    {
     "data": {
      "text/html": [
       "<div>\n",
       "<style scoped>\n",
       "    .dataframe tbody tr th:only-of-type {\n",
       "        vertical-align: middle;\n",
       "    }\n",
       "\n",
       "    .dataframe tbody tr th {\n",
       "        vertical-align: top;\n",
       "    }\n",
       "\n",
       "    .dataframe thead th {\n",
       "        text-align: right;\n",
       "    }\n",
       "</style>\n",
       "<table border=\"1\" class=\"dataframe\">\n",
       "  <thead>\n",
       "    <tr style=\"text-align: right;\">\n",
       "      <th></th>\n",
       "      <th>X</th>\n",
       "      <th>y</th>\n",
       "    </tr>\n",
       "  </thead>\n",
       "  <tbody>\n",
       "    <tr>\n",
       "      <th>0</th>\n",
       "      <td>products or undertake transactions that need i...</td>\n",
       "      <td>1</td>\n",
       "    </tr>\n",
       "    <tr>\n",
       "      <th>1</th>\n",
       "      <td>the examples above show the awesome , earning ...</td>\n",
       "      <td>1</td>\n",
       "    </tr>\n",
       "    <tr>\n",
       "      <th>2</th>\n",
       "      <td>presenters should attend if at all possible an...</td>\n",
       "      <td>0</td>\n",
       "    </tr>\n",
       "    <tr>\n",
       "      <th>3</th>\n",
       "      <td>http : / / m . r . splendidspring . com / oe /</td>\n",
       "      <td>1</td>\n",
       "    </tr>\n",
       "    <tr>\n",
       "      <th>4</th>\n",
       "      <td>/ b / p</td>\n",
       "      <td>1</td>\n",
       "    </tr>\n",
       "    <tr>\n",
       "      <th>5</th>\n",
       "      <td>request create date : 11 / 2 / 00 1 : 12 : 58 pm</td>\n",
       "      <td>0</td>\n",
       "    </tr>\n",
       "    <tr>\n",
       "      <th>6</th>\n",
       "      <td>vita : http : / / garven . lsu . edu / dossier...</td>\n",
       "      <td>0</td>\n",
       "    </tr>\n",
       "    <tr>\n",
       "      <th>7</th>\n",
       "      <td>oi | and gas ' shares ? weil we do know this -...</td>\n",
       "      <td>1</td>\n",
       "    </tr>\n",
       "    <tr>\n",
       "      <th>8</th>\n",
       "      <td>further drop ! rates starting at 3 . 25 %</td>\n",
       "      <td>1</td>\n",
       "    </tr>\n",
       "    <tr>\n",
       "      <th>9</th>\n",
       "      <td>bruce francis , kathleen hays</td>\n",
       "      <td>0</td>\n",
       "    </tr>\n",
       "  </tbody>\n",
       "</table>\n",
       "</div>"
      ],
      "text/plain": [
       "                                                   X  y\n",
       "0  products or undertake transactions that need i...  1\n",
       "1  the examples above show the awesome , earning ...  1\n",
       "2  presenters should attend if at all possible an...  0\n",
       "3     http : / / m . r . splendidspring . com / oe /  1\n",
       "4                                            / b / p  1\n",
       "5   request create date : 11 / 2 / 00 1 : 12 : 58 pm  0\n",
       "6  vita : http : / / garven . lsu . edu / dossier...  0\n",
       "7  oi | and gas ' shares ? weil we do know this -...  1\n",
       "8          further drop ! rates starting at 3 . 25 %  1\n",
       "9                      bruce francis , kathleen hays  0"
      ]
     },
     "metadata": {},
     "output_type": "display_data"
    }
   ],
   "source": [
    "display(df.shape)\n",
    "display(df.head(10))"
   ]
  },
  {
   "cell_type": "code",
   "execution_count": 17,
   "metadata": {},
   "outputs": [],
   "source": [
    "# Create a stop list\n",
    "stoplist = stopwords.words('english') + list(string.punctuation)\n",
    "stoplist = set(stoplist)"
   ]
  },
  {
   "cell_type": "code",
   "execution_count": 20,
   "metadata": {},
   "outputs": [],
   "source": [
    "def trim_word(text):\n",
    "    '''Remove unrelated words or symbols in emails\n",
    "    Param: text: email content as a string\n",
    "    '''\n",
    "    return [word for word in word_tokenize(text) if word.lower() not in stoplist and not word.isdigit()]"
   ]
  },
  {
   "cell_type": "code",
   "execution_count": 24,
   "metadata": {},
   "outputs": [],
   "source": [
    "df['X'] = df['X'].astype(str)"
   ]
  },
  {
   "cell_type": "code",
   "execution_count": 25,
   "metadata": {
    "scrolled": true
   },
   "outputs": [
    {
     "data": {
      "text/plain": [
       "0         [products, undertake, transactions, need, imme...\n",
       "1         [examples, show, awesome, earning, potential, ...\n",
       "2             [presenters, attend, possible, event, unable]\n",
       "3                        [http, r, splendidspring, com, oe]\n",
       "4                                                    [b, p]\n",
       "                                ...                        \n",
       "829205                     [non, hormonal, herbal, therapy]\n",
       "829206    [enron, makes, markets, variety, commodities, ...\n",
       "829207                                        [lauer, kara]\n",
       "829208                                 [Subject, news, use]\n",
       "829209                       [site, goes, live, next, week]\n",
       "Name: X, Length: 829210, dtype: object"
      ]
     },
     "execution_count": 25,
     "metadata": {},
     "output_type": "execute_result"
    }
   ],
   "source": [
    "# Remove punctuation and stop words in X\n",
    "df['X'].apply(trim_word)"
   ]
  },
  {
   "cell_type": "code",
   "execution_count": 26,
   "metadata": {},
   "outputs": [],
   "source": [
    "# Save as cleand df\n",
    "df.to_csv('../data/emails_cleaned.csv', index=False)"
   ]
  }
 ],
 "metadata": {
  "kernelspec": {
   "display_name": "Python 3.8.2 64-bit",
   "language": "python",
   "name": "python38264bit7e3c702f16764767914e1c3a23341f94"
  },
  "language_info": {
   "codemirror_mode": {
    "name": "ipython",
    "version": 3
   },
   "file_extension": ".py",
   "mimetype": "text/x-python",
   "name": "python",
   "nbconvert_exporter": "python",
   "pygments_lexer": "ipython3",
   "version": "3.8.2"
  }
 },
 "nbformat": 4,
 "nbformat_minor": 4
}
